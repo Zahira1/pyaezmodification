{
  "nbformat": 4,
  "nbformat_minor": 0,
  "metadata": {
    "kernelspec": {
      "display_name": "Python 3",
      "language": "python",
      "name": "python3"
    },
    "language_info": {
      "codemirror_mode": {
        "name": "ipython",
        "version": 3
      },
      "file_extension": ".py",
      "mimetype": "text/x-python",
      "name": "python",
      "nbconvert_exporter": "python",
      "pygments_lexer": "ipython3",
      "version": "3.5.2"
    },
    "colab": {
      "name": "NB_WithCode.ipynb",
      "provenance": [],
      "collapsed_sections": []
    }
  },
  "cells": [
    {
      "cell_type": "markdown",
      "metadata": {
        "id": "ors8FeNt7FKp"
      },
      "source": [
        "<br>"
      ]
    },
    {
      "cell_type": "markdown",
      "metadata": {
        "id": "N8ovRAOz7FKr"
      },
      "source": [
        "# Crop Simulation\n",
        "\n",
        "<hr>\n",
        "<hr>"
      ]
    },
    {
      "cell_type": "markdown",
      "metadata": {
        "id": "2kBTJx447FKs"
      },
      "source": [
        "## Importing Libraries"
      ]
    },
    {
      "cell_type": "code",
      "metadata": {
        "id": "7CH-f08r7FKt"
      },
      "source": [
        "'''import supporting libraries'''\n",
        "\n",
        "import numpy as np\n",
        "import matplotlib.pyplot as plt\n",
        "\n",
        "import sys\n",
        "import os\n",
        "from google.colab import drive"
      ],
      "execution_count": 1,
      "outputs": []
    },
    {
      "cell_type": "code",
      "metadata": {
        "id": "C4SfoHzU7Icx",
        "colab": {
          "base_uri": "https://localhost:8080/"
        },
        "outputId": "14113565-aeda-4d1e-c954-a082ca8abe7f"
      },
      "source": [
        "'''connecting to google drive'''\n",
        "\n",
        "drive.mount('/content/drive')"
      ],
      "execution_count": null,
      "outputs": [
        {
          "output_type": "stream",
          "text": [
            "Mounted at /content/drive\n"
          ],
          "name": "stdout"
        }
      ]
    },
    {
      "cell_type": "code",
      "metadata": {
        "id": "ln5EZonO7JV8"
      },
      "source": [
        "'''setting working directory'''\n",
        "\n",
        "os.chdir(\"drive/My Drive/C_PyAEZ_M2_Crop_Simulation/data/\") # change this based on your location in google drive"
      ],
      "execution_count": null,
      "outputs": []
    },
    {
      "cell_type": "code",
      "metadata": {
        "id": "FuzqE91XrV9R"
      },
      "source": [
        "'''add path to source code directory'''\n",
        "\n",
        "sys.path.append('./code/')"
      ],
      "execution_count": null,
      "outputs": []
    },
    {
      "cell_type": "code",
      "metadata": {
        "id": "vLP2ZOGM7FK5"
      },
      "source": [
        "'''importing library'''\n",
        "\n",
        "import CropSimulation\n",
        "aez = CropSimulation.CropSimulation()"
      ],
      "execution_count": null,
      "outputs": []
    },
    {
      "cell_type": "markdown",
      "metadata": {
        "id": "rAZ0uPTY7FKx"
      },
      "source": [
        "## Handling Data"
      ]
    },
    {
      "cell_type": "code",
      "metadata": {
        "id": "5MWozWU07FKy"
      },
      "source": [
        "'''reading climate data'''\n",
        "\n",
        "min_temp = np.load('./sample_data/input/climate/min_temp.npy') # Celcius\n",
        "max_temp = np.load('./sample_data/input/climate/max_temp.npy') # Celcius\n",
        "precipitation = np.load('./sample_data/input/climate/precipitation.npy') # mm / day\n",
        "short_rad = np.load('./sample_data/input/climate/short_rad.npy') # W/m^2\n",
        "wind_speed = np.load('./sample_data/input/climate/wind_speed.npy') # m/s\n",
        "rel_humidity = np.load('./sample_data/input/climate/relative_humidity.npy') # Fraction, and assumed as a constant 0.70"
      ],
      "execution_count": null,
      "outputs": []
    },
    {
      "cell_type": "code",
      "metadata": {
        "id": "HlEGpGk_7FK1"
      },
      "source": [
        "'''reading study area and elevation data'''\n",
        "\n",
        "admin_mask = np.load('./sample_data/input/LAO_Admin.npy');\n",
        "srtm_elevation = np.load('./sample_data/input/SRTM_Elevation.npy'); # m"
      ],
      "execution_count": null,
      "outputs": []
    },
    {
      "cell_type": "code",
      "metadata": {
        "id": "iaMesl7KsfC8"
      },
      "source": [
        "'''setting input data'''\n",
        "\n",
        "aez.setMonthlyClimateData(min_temp, max_temp, precipitation, short_rad, wind_speed, rel_humidity)\n",
        "aez.setLocationTerrainData(lat_min=13.90, lat_max=22.51, elevation=srtm_elevation)\n",
        "aez.setStudyAreaMask(admin_mask=admin_mask, no_data_value=0)"
      ],
      "execution_count": null,
      "outputs": []
    },
    {
      "cell_type": "markdown",
      "metadata": {
        "id": "RjwISk4M7FK4"
      },
      "source": [
        "## Setting Crop Parameters"
      ]
    },
    {
      "cell_type": "code",
      "metadata": {
        "scrolled": false,
        "id": "KSw1rlb07FK8"
      },
      "source": [
        "'''setting crop parameters'''\n",
        "\n",
        "aez.setCropParameters(LAI=4, HI=0.4, legume=0, adaptability=2, cycle_len=105, D1=0.75, D2=0.75)\n",
        "aez.setCropCycleParameters(stage_per=[10, 30, 30, 30], kc=[1.1, 1.2, 1], kc_all=1.1, yloss_f=[1, 2, 2.5, 1], yloss_f_all=2)\n",
        "aez.setSoilWaterParameters(Sa=100*np.ones((admin_mask.shape)), pc=0.5) "
      ],
      "execution_count": null,
      "outputs": []
    },
    {
      "cell_type": "code",
      "metadata": {
        "id": "2LwAQkIP7FK_"
      },
      "source": [
        "'''setting climate screening (optional)'''\n",
        "\n",
        "aez.setLGPTScreening([75,75,75],[105,105,105])\n",
        "aez.setTSumScreening([2000,2000,2000],[3000,3000,3000])"
      ],
      "execution_count": null,
      "outputs": []
    },
    {
      "cell_type": "code",
      "metadata": {
        "scrolled": true,
        "id": "Ix6Q7OcI7FLC",
        "colab": {
          "base_uri": "https://localhost:8080/"
        },
        "outputId": "057d5c91-e342-408b-ebdd-3f1669a4d284"
      },
      "source": [
        "'''run simulations'''\n",
        "\n",
        "aez.simulateCropCycle() # results are in kg / hectare"
      ],
      "execution_count": null,
      "outputs": [
        {
          "output_type": "stream",
          "text": [
            "Done: 0 %\n",
            "Done: 0 %\n",
            "Done: 0 %\n",
            "Done: 1 %\n",
            "Done: 2 %\n",
            "Done: 3 %\n",
            "Done: 5 %\n",
            "Done: 7 %\n",
            "Done: 10 %\n",
            "Done: 15 %\n",
            "Done: 20 %\n",
            "Done: 25 %\n",
            "Done: 30 %\n",
            "Done: 34 %\n",
            "Done: 39 %\n",
            "Done: 42 %\n",
            "Done: 45 %\n",
            "Done: 48 %\n",
            "Done: 52 %\n",
            "Done: 57 %\n",
            "Done: 61 %\n",
            "Done: 64 %\n",
            "Done: 66 %\n",
            "Done: 68 %\n",
            "Done: 69 %\n",
            "Done: 71 %\n",
            "Done: 73 %\n",
            "Done: 74 %\n",
            "Done: 76 %\n",
            "Done: 79 %\n",
            "Done: 81 %\n",
            "Done: 84 %\n",
            "Done: 85 %\n",
            "Done: 87 %\n",
            "Done: 90 %\n",
            "Done: 92 %\n",
            "Done: 95 %\n",
            "Done: 97 %\n",
            "Done: 98 %\n",
            "Done: 99 %\n",
            "Simulations Completed !\n"
          ],
          "name": "stdout"
        }
      ]
    },
    {
      "cell_type": "code",
      "metadata": {
        "id": "ejJDaXfe7FLG"
      },
      "source": [
        "'''get result'''\n",
        "\n",
        "yield_map_rain = aez.getEstimatedYieldRainfed()\n",
        "yield_map_irr = aez.getEstimatedYieldIrrigated()\n",
        "\n",
        "starting_date = aez.getOptimumCycleStartDate()"
      ],
      "execution_count": null,
      "outputs": []
    },
    {
      "cell_type": "code",
      "metadata": {
        "id": "I6XhBiCt7FLJ",
        "colab": {
          "base_uri": "https://localhost:8080/",
          "height": 767
        },
        "outputId": "8a0b5aa0-08f5-47cc-9354-586b18cbf706"
      },
      "source": [
        "'''visualize result'''\n",
        "\n",
        "plt.imshow(yield_map_rain)\n",
        "plt.colorbar()\n",
        "plt.show()\n",
        "plt.imshow(yield_map_irr)\n",
        "plt.colorbar()\n",
        "plt.show()\n",
        "\n",
        "plt.imshow(starting_date)\n",
        "plt.colorbar()\n",
        "plt.show()"
      ],
      "execution_count": null,
      "outputs": [
        {
          "output_type": "display_data",
          "data": {
            "image/png": "[encoded data removed]",
            "text/plain": [
              "<Figure size 432x288 with 2 Axes>"
            ]
          },
          "metadata": {
            "tags": [],
            "needs_background": "light"
          }
        },
        {
          "output_type": "display_data",
          "data": {
            "image/png": "[encoded data removed]",
            "text/plain": [
              "<Figure size 432x288 with 2 Axes>"
            ]
          },
          "metadata": {
            "tags": [],
            "needs_background": "light"
          }
        },
        {
          "output_type": "display_data",
          "data": {
            "image/png": "[encoded data removed]",
            "text/plain": [
              "<Figure size 432x288 with 2 Axes>"
            ]
          },
          "metadata": {
            "tags": [],
            "needs_background": "light"
          }
        }
      ]
    },
    {
      "cell_type": "code",
      "metadata": {
        "id": "tqHjeZDj7FLN"
      },
      "source": [
        ""
      ],
      "execution_count": null,
      "outputs": []
    }
  ]
}